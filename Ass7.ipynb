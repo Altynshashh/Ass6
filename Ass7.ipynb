{
 "cells": [
  {
   "cell_type": "markdown",
   "metadata": {},
   "source": [
    "### Members:\n",
    "* Daniyarova Altynshash \n",
    "* Zhanbyrbayeva Gulzhanat\n",
    "\n",
    "### Group: BDA-1904"
   ]
  },
  {
   "cell_type": "markdown",
   "metadata": {
    "id": "bYrrVnj4w7aH"
   },
   "source": [
    "# Assignment 7"
   ]
  },
  {
   "cell_type": "markdown",
   "metadata": {},
   "source": [
    "##### Assignment 7 (Part 5 of the project)\n",
    "#### Input:\n",
    "a sequence of binary digits from Part 4.\n",
    "#### Goal:\n",
    "Add errors to the binary sequence after Part4 (Hamming code). Decode Hamming code and\n",
    "fix errors.\n",
    "#### Final output: \n",
    "a sequence of binary digits identical to an output sequence from Part 2.\n"
   ]
  },
  {
   "cell_type": "markdown",
   "metadata": {
    "id": "Pr6plZuNxidO"
   },
   "source": [
    "# Gulzhanat's part\n",
    "## Example (15, 11)"
   ]
  },
  {
   "cell_type": "code",
   "execution_count": 65,
   "metadata": {},
   "outputs": [],
   "source": [
    "#import libraries\n",
    "import random"
   ]
  },
  {
   "cell_type": "code",
   "execution_count": 67,
   "metadata": {
    "colab": {
     "base_uri": "https://localhost:8080/"
    },
    "id": "Nre3TMWzxQR0",
    "outputId": "b260765a-06ca-4dee-f44b-8bb650d8a60d"
   },
   "outputs": [
    {
     "name": "stdout",
     "output_type": "stream",
     "text": [
      "Original file: 111011100011110100111111001111010101010011001101010110100101010101011111111100001101100110111100000011110011011011000110000011011000101110000011000101110011011111111011111000011011011101101000100000110111011000111101001010000011011001100011111100000011110000000101000010010001011100001110111000011110110110110110111001101100100111111110110110001110100000010111111111110010110001011010101010110101010101001101010111000011110110000111001110101100100111110111110100011001100010111101100010000010001100110100011000111010111110101101110010100011100010000011110010100100110000010000110000100010110111100001100010000010001111111000101011000111101011010010011111101011110100110101010100100101101100100111100000011101010000011000100010000101101010001011011101000100000011110110001111001001101001010111011111101110000100010111100110110100011010010011010110101110111011001100001111011000100010100001001110101111110111000100010011010000011110100101101000100010011010101001100110001100110101101101110001010100011011000000000011000011100011101000111100010000101101001010000010100100011110001011110110001100011100101001101111011011101001000010100011011000000000011000011001110100100001100000011001111101101110001110001110011001001100101010011111011010111000101011101111101110110110110110111101000001101100011000010011010110000011000101001010000010100110001000010010111001001111101100010000010001001110110001011010111100000101010000110111000110110110000100000110100101000010011110110001011110000001111000100011100001010100100110000011001100001111100001011011011011000100101000011000100100111100111010001101000100100110101100010011010010011111111110011101010011101000100101111101110011000001100101101011100101000111010011101101000001100111111011011001010000101100011011000100101110111011101011110001101011110110001110001010001001110111011111100001010000011001001100000100010100111100100001001110001000010010111100110010000111100000100010100010001001011011011011110101\n",
      "Initial blocks:\n",
      "b1: 1110111000111101\n",
      "b2: 0011111100111101\n",
      "b3: 0101010011001101\n",
      "b4: 0101101001010101\n",
      "b5: 0101111111110000\n",
      "b6: 1101100110111100\n",
      "b7: 0000111100110110\n",
      "b8: 1100011000001101\n",
      "b9: 1000101110000011\n",
      "b10: 0001011100110111\n",
      "b11: 1111101111100001\n",
      "b12: 1011011101101000\n",
      "b13: 1000001101110110\n",
      "b14: 0011110100101000\n",
      "b15: 0011011001100011\n",
      "b16: 1111000000111100\n",
      "b17: 0000010100001001\n",
      "b18: 0001011100001110\n",
      "b19: 1110000111101101\n",
      "b20: 1011011011100110\n",
      "b21: 1100100111111110\n",
      "b22: 1101100011101000\n",
      "b23: 0001011111111111\n",
      "b24: 0010110001011010\n",
      "b25: 1010101101010101\n",
      "b26: 0100110101011100\n",
      "b27: 0011110110000111\n",
      "b28: 0011101011001001\n",
      "b29: 1111011111010001\n",
      "b30: 1001100010111101\n",
      "b31: 1000100000100011\n",
      "b32: 0011010001100011\n",
      "b33: 1010111110101101\n",
      "b34: 1100101000111000\n",
      "b35: 1000001111001010\n",
      "b36: 0100110000010000\n",
      "b37: 1100001000101101\n",
      "b38: 1110000110001000\n",
      "b39: 0010001111111000\n",
      "b40: 1010110001111010\n",
      "b41: 1101001001111110\n",
      "b42: 1011110100110101\n",
      "b43: 0101001001011011\n",
      "b44: 0010011110000001\n",
      "b45: 1101010000011000\n",
      "b46: 1000100001011010\n",
      "b47: 1000101101110100\n",
      "b48: 0100000011110110\n",
      "b49: 0011110010011010\n",
      "b50: 0101011101111110\n",
      "b51: 1110000100010111\n",
      "b52: 1001101101000110\n",
      "b53: 1001001101011010\n",
      "b54: 1110111011001100\n",
      "b55: 0011110110001000\n",
      "b56: 1010000100111010\n",
      "b57: 1111110111000100\n",
      "b58: 0100110100000111\n",
      "b59: 1010010110100010\n",
      "b60: 0010011010101001\n",
      "b61: 1001100011001101\n",
      "b62: 0110110111000101\n",
      "b63: 0100011011000000\n",
      "b64: 0000110000111000\n",
      "b65: 1110100011110001\n",
      "b66: 0000101101001010\n",
      "b67: 0000101001000111\n",
      "b68: 1000101111011000\n",
      "b69: 1100011100101001\n",
      "b70: 1011110110111010\n",
      "b71: 0100001010001101\n",
      "b72: 1000000000011000\n",
      "b73: 0110011101001000\n",
      "b74: 0110000001100111\n",
      "b75: 1101101110001110\n",
      "b76: 0011100110010011\n",
      "b77: 0010101001111101\n",
      "b78: 1010111000101011\n",
      "b79: 1011111011101101\n",
      "b80: 1011011011110100\n",
      "b81: 0001101100011000\n",
      "b82: 0100110101100000\n",
      "b83: 1100010100101000\n",
      "b84: 0010100110001000\n",
      "b85: 0100101110010011\n",
      "b86: 1110110001000001\n",
      "b87: 0001001110110001\n",
      "b88: 0110101111000001\n",
      "b89: 0101000011011100\n",
      "b90: 0110110110000100\n",
      "b91: 0001101001010000\n",
      "b92: 1001111011000101\n",
      "b93: 1110000001111000\n",
      "b94: 1000111000010101\n",
      "b95: 0010011000001100\n",
      "b96: 1100001111100001\n",
      "b97: 0110110110110001\n",
      "b98: 0010100001100010\n",
      "b99: 0100111100111010\n",
      "b100: 0011010001001001\n",
      "b101: 1010110001001101\n",
      "b102: 0010011111111110\n",
      "b103: 0111010100111010\n",
      "b104: 0010010111110111\n",
      "b105: 0011000001100101\n",
      "b106: 1010111001010001\n",
      "b107: 1101001110110100\n",
      "b108: 0001100111111011\n",
      "b109: 0110010100001011\n",
      "b110: 0001101100010010\n",
      "b111: 1110111011101011\n",
      "b112: 1100011010111101\n",
      "b113: 1000111000101000\n",
      "b114: 1001110111011111\n",
      "b115: 1000010100000110\n",
      "b116: 0100110000010001\n",
      "b117: 0100111100100001\n",
      "b118: 0011100010000100\n",
      "b119: 1011110011001000\n",
      "b120: 0111100000100010\n",
      "b121: 1000100010010110\n",
      "b122: 11011011110101\n"
     ]
    }
   ],
   "source": [
    "i_file1511 = open ('e_bitstr11.txt','r')\n",
    "new = i_file1511.read()\n",
    "print(f'Original file: {new}')\n",
    "# meking data blocks 16 bits\n",
    "n = 16\n",
    "data_block11 =[new[i:i+n] \n",
    "                for i in range(0, len(new), n)]\n",
    "#printing data blocks \n",
    "print('Initial blocks:' )\n",
    "i=1\n",
    "for data in data_block11:\n",
    "    print(f'b{i}: {data}')\n",
    "    i+=1"
   ]
  },
  {
   "cell_type": "code",
   "execution_count": 68,
   "metadata": {
    "colab": {
     "base_uri": "https://localhost:8080/"
    },
    "id": "KSqYwJF5y5d1",
    "outputId": "3b9854ec-aa77-4f26-def7-27e0281948eb"
   },
   "outputs": [
    {
     "name": "stdout",
     "output_type": "stream",
     "text": [
      "61\n",
      "Blocks with errors:\n",
      "b100: 0011010001001001, position: 14\n"
     ]
    }
   ],
   "source": [
    "i = 0\n",
    "for data in data_block11:\n",
    "    i+=1\n",
    "id_block = round((i*50)/100)\n",
    "print(id_block)\n",
    "n = 0\n",
    "print(f'Blocks with errors:')\n",
    "for elements in data_block11:\n",
    "#making random blocks \n",
    "    r_id = random.randint(0, len(data_block11)-1)\n",
    "    n+=1\n",
    "    if n == id_block + 1: break\n",
    "    else:\n",
    "#creating a random positions of bits\n",
    "        r_bit = random.randint(0, 15)\n",
    "        element = data_block11[r_id]\n",
    "        element = [int(e, 16) for e in element]\n",
    "        element[r_bit] = element[r_bit] ^ 1\n",
    "#translate to str \n",
    "        element_str = ''.join(map(str, element))\n",
    "        data_block11[r_id] = element_str\n",
    "print(f'b{r_id+1}: {data_block11[r_id]}, position: {r_bit}' )"
   ]
  },
  {
   "cell_type": "code",
   "execution_count": 82,
   "metadata": {
    "id": "z6Oye5qPYqUw"
   },
   "outputs": [],
   "source": [
    "# Step 3\n",
    "def HammingDecode1511(bitstr):\n",
    "  # Get data bits\n",
    "    n = 1\n",
    "    b = [bitstr[i:i+n]\n",
    "              for i in range(0, len(bitstr), n)]\n",
    "    for i in range(0, len(b)):\n",
    "        b[i] = int(b[i])\n",
    "    check = ''\n",
    "    print(f'{bitstr}:')\n",
    "    p1 = b[3]^b[5]^b[7]^b[9]^b[11]^b[13]^b[15]\n",
    "    if p1 == b[1]:\n",
    "        check_res = 'correct'\n",
    "        s = 'a'\n",
    "    else:\n",
    "        check_res = 'incorrect'\n",
    "        s = 'b'\n",
    "    check += s\n",
    "    print(f'p1: b3+b5+b7+b9+b11+b13+b15 = {b[3]}+{b[5]}+{b[7]}+{b[9]}+{b[11]}+{b[13]}+{b[15]} = {p1} {check_res}')\n",
    "    p2 = b[3]^b[6]^b[7]^b[10]^b[11]^b[14]^b[15]\n",
    "    if p2 == b[2]:\n",
    "        check_res = 'correct'\n",
    "        s = 'a'\n",
    "    else:\n",
    "        check_res = 'incorrect'\n",
    "        s = 'b'\n",
    "    check += s\n",
    "    print(f'p2: b3+b6+b7+b10+b11+b14+b15 = {b[3]}+{b[6]}+{b[7]}+{b[10]}+{b[11]}+{b[14]}+{b[15]} = {p2}  {check_res}')\n",
    "    p4 = b[5]^b[6]^b[7]^b[12]^b[13]^b[14]^b[15]\n",
    "    if p4 == b[4]:\n",
    "        check = 'correct'\n",
    "        s = 'a'\n",
    "    else:\n",
    "        check_res = 'incorrect'\n",
    "        s = 'b'\n",
    "    check += s\n",
    "    print(f'p4: b5+b6+b7+b12+b13+b14+b15 = {b[5]}+{b[6]}+{b[7]}+{b[12]}+{b[13]}+{b[14]}+{b[15]} = {p4} {check_res}')\n",
    "    p8 = b[9]^b[10]^b[11]^b[12]^b[13]^b[14]^b[15]\n",
    "    if p8 == b[8]:\n",
    "        check_res = 'correct'\n",
    "        s = 'a'\n",
    "    else:\n",
    "        check_res = 'incorrect'\n",
    "        s = 'b'\n",
    "    check += s\n",
    "    print(f'p8: b9+b10+b11+b12+b13+b14+b15 = {b[9]}+{b[10]}+{b[11]}+{b[12]}+{b[13]}+{b[14]}+{b[15]} = {p8} {check_res}')\n",
    "    p0 = b[1]^b[2]^b[3]^b[4]^b[5]^b[6]^b[7]^b[8]^b[9]^b[10]^b[11]^b[12]^b[13]^b[14]^b[15]\n",
    "    if p0 == b[0]:\n",
    "        check_res = 'correct'\n",
    "    else:\n",
    "        check_res = 'incorrect'  \n",
    "    print(f'p0: b1+b2+b3+b4+b5+b6+b7+b8+b9+b10+b11+b12+b13+b14+b15 = {b[1]}+{b[2]}+{b[3]}+{b[4]}+{b[5]}+{b[6]}+{b[7]}+{b[8]}+{b[9]}+{b[10]}+{b[11]}+{b[12]}+{b[13]}+{b[14]}+{b[15]} = {p0} {check_res}')\n",
    "    full = check + check_res\n",
    "    if full == 'aaaacorrect':\n",
    "        print('No error')\n",
    "    else:\n",
    "        if check == 'baaa': p_id = 1\n",
    "        elif check == 'abaa': p_id = 2\n",
    "        elif check == 'aaba': p_id = 4\n",
    "        elif check == 'aaab': p_id = 8\n",
    "        elif check == 'bbaa': p_id = 3\n",
    "        elif check == 'baba': p_id = 5\n",
    "        elif check == 'abba': p_id = 6\n",
    "        elif check == 'bbba': p_id = 7\n",
    "        elif check == 'baab': p_id = 9\n",
    "        elif check == 'abab': p_id = 10\n",
    "        elif check == 'bbab': p_id = 11\n",
    "        elif check == 'aabb': p_id = 12\n",
    "        elif check == 'babb': p_id = 13\n",
    "        elif check == 'abbb': p_id = 14\n",
    "        elif check == 'bbbb': p_id = 15\n",
    "        else: p_id = 0\n",
    "\n",
    "    print(f'Error in position {p_id}')\n",
    "    # correcting error\n",
    "    b[p_id] = b[p_id]^1\n",
    "    corr_b = ''.join(map(str, b))\n",
    "    print(f'Corrected bitstring: {corr_b}')\n",
    "    original = [b[3], b[5], b[6], b[7],b[9], b[10], b[11], b[12], b[13], b[14], b[15]]\n",
    "    decoded_str = ''.join(map(str, original))\n",
    "    print(f'Decoded bitstring: {decoded_str}')\n",
    "    return decoded_str\n",
    "  "
   ]
  },
  {
   "cell_type": "code",
   "execution_count": 89,
   "metadata": {
    "colab": {
     "base_uri": "https://localhost:8080/"
    },
    "id": "b7d5BEuKNlRD",
    "outputId": "a6ee42b1-b358-4520-ce1d-686f9caff721"
   },
   "outputs": [
    {
     "name": "stdout",
     "output_type": "stream",
     "text": [
      "1110111000111101:\n",
      "p1: b3+b5+b7+b9+b11+b13+b15 = 0+1+0+0+1+1+1 = 0 incorrect\n",
      "p2: b3+b6+b7+b10+b11+b14+b15 = 0+1+0+1+1+0+1 = 0  incorrect\n",
      "p4: b5+b6+b7+b12+b13+b14+b15 = 1+1+0+1+1+0+1 = 1 incorrect\n",
      "p8: b9+b10+b11+b12+b13+b14+b15 = 0+1+1+1+1+0+1 = 1 incorrect\n",
      "p0: b1+b2+b3+b4+b5+b6+b7+b8+b9+b10+b11+b12+b13+b14+b15 = 1+1+0+1+1+1+0+0+0+1+1+1+1+0+1 = 0 incorrect\n",
      "Error in position 0\n",
      "Corrected bitstring: 0110111000111101\n",
      "Decoded bitstring: 01100111101\n"
     ]
    },
    {
     "ename": "NameError",
     "evalue": "name 'dec_seq1511' is not defined",
     "output_type": "error",
     "traceback": [
      "\u001b[1;31m---------------------------------------------------------------------------\u001b[0m",
      "\u001b[1;31mNameError\u001b[0m                                 Traceback (most recent call last)",
      "\u001b[1;32m<ipython-input-89-ede6bdcd3b60>\u001b[0m in \u001b[0;36m<module>\u001b[1;34m\u001b[0m\n\u001b[0;32m      2\u001b[0m \u001b[1;32mfor\u001b[0m \u001b[0mi\u001b[0m \u001b[1;32min\u001b[0m \u001b[0mrange\u001b[0m\u001b[1;33m(\u001b[0m\u001b[1;36m0\u001b[0m\u001b[1;33m,\u001b[0m \u001b[0mlen\u001b[0m\u001b[1;33m(\u001b[0m\u001b[0mdata_block11\u001b[0m\u001b[1;33m)\u001b[0m\u001b[1;33m)\u001b[0m\u001b[1;33m:\u001b[0m\u001b[1;33m\u001b[0m\u001b[1;33m\u001b[0m\u001b[0m\n\u001b[0;32m      3\u001b[0m     \u001b[0mdec1511\u001b[0m \u001b[1;33m=\u001b[0m \u001b[0mHammingDecode1511\u001b[0m\u001b[1;33m(\u001b[0m\u001b[0mdata_block11\u001b[0m\u001b[1;33m[\u001b[0m\u001b[0mi\u001b[0m\u001b[1;33m]\u001b[0m\u001b[1;33m)\u001b[0m\u001b[1;33m\u001b[0m\u001b[1;33m\u001b[0m\u001b[0m\n\u001b[1;32m----> 4\u001b[1;33m     \u001b[0mdec_seq1511\u001b[0m \u001b[1;33m=\u001b[0m \u001b[0mdec_seq1511\u001b[0m \u001b[1;33m+\u001b[0m \u001b[0mdec1511\u001b[0m\u001b[1;33m\u001b[0m\u001b[1;33m\u001b[0m\u001b[0m\n\u001b[0m\u001b[0;32m      5\u001b[0m     \u001b[0mprint\u001b[0m\u001b[1;33m(\u001b[0m\u001b[1;34m'----------'\u001b[0m\u001b[1;33m)\u001b[0m\u001b[1;33m\u001b[0m\u001b[1;33m\u001b[0m\u001b[0m\n",
      "\u001b[1;31mNameError\u001b[0m: name 'dec_seq1511' is not defined"
     ]
    }
   ],
   "source": [
    "deс_seq1511 = ''\n",
    "for i in range(0, len(data_block11)):\n",
    "    dec1511 = HammingDecode1511(data_block11[i])\n",
    "    dec_seq1511 = dec_seq1511 + dec1511\n",
    "    print('----------')"
   ]
  },
  {
   "cell_type": "code",
   "execution_count": 85,
   "metadata": {
    "colab": {
     "base_uri": "https://localhost:8080/"
    },
    "id": "q1MUCspa-mC7",
    "outputId": "5bd78891-2588-4a85-c0be-7e3a3b392e9c"
   },
   "outputs": [
    {
     "ename": "NameError",
     "evalue": "name 'dec_seq1511' is not defined",
     "output_type": "error",
     "traceback": [
      "\u001b[1;31m---------------------------------------------------------------------------\u001b[0m",
      "\u001b[1;31mNameError\u001b[0m                                 Traceback (most recent call last)",
      "\u001b[1;32m<ipython-input-85-ad5e502a6f9d>\u001b[0m in \u001b[0;36m<module>\u001b[1;34m\u001b[0m\n\u001b[1;32m----> 1\u001b[1;33m \u001b[0mprint\u001b[0m\u001b[1;33m(\u001b[0m\u001b[1;34mf'Decoded sequence: {dec_seq1511}'\u001b[0m\u001b[1;33m)\u001b[0m\u001b[1;33m\u001b[0m\u001b[1;33m\u001b[0m\u001b[0m\n\u001b[0m\u001b[0;32m      2\u001b[0m \u001b[1;31m# open and read txt file\u001b[0m\u001b[1;33m\u001b[0m\u001b[1;33m\u001b[0m\u001b[1;33m\u001b[0m\u001b[0m\n\u001b[0;32m      3\u001b[0m \u001b[1;32mwith\u001b[0m \u001b[0mopen\u001b[0m\u001b[1;33m(\u001b[0m\u001b[1;34m'copy.txt'\u001b[0m\u001b[1;33m,\u001b[0m \u001b[0mencoding\u001b[0m\u001b[1;33m=\u001b[0m\u001b[1;34m\"utf8\"\u001b[0m\u001b[1;33m)\u001b[0m \u001b[1;32mas\u001b[0m \u001b[0mfile\u001b[0m\u001b[1;33m:\u001b[0m\u001b[1;33m\u001b[0m\u001b[1;33m\u001b[0m\u001b[0m\n\u001b[0;32m      4\u001b[0m     \u001b[0mo_file\u001b[0m \u001b[1;33m=\u001b[0m \u001b[0mfile\u001b[0m\u001b[1;33m.\u001b[0m\u001b[0mread\u001b[0m\u001b[1;33m(\u001b[0m\u001b[1;33m)\u001b[0m\u001b[1;33m\u001b[0m\u001b[1;33m\u001b[0m\u001b[0m\n\u001b[0;32m      5\u001b[0m \u001b[0mprint\u001b[0m\u001b[1;33m(\u001b[0m\u001b[1;34mf'Sequence from assignment 3: {o_file}'\u001b[0m\u001b[1;33m)\u001b[0m\u001b[1;33m\u001b[0m\u001b[1;33m\u001b[0m\u001b[0m\n",
      "\u001b[1;31mNameError\u001b[0m: name 'dec_seq1511' is not defined"
     ]
    }
   ],
   "source": [
    "print(f'Decoded sequence: {dec_seq1511}')\n",
    "# open and read txt file\n",
    "with open('copy.txt', encoding=\"utf8\") as file:\n",
    "    o_file = file.read()\n",
    "print(f'Sequence from assignment 3: {o_file}')\n",
    "\n",
    "if o_file == dec_seq1511:\n",
    "    print('They match')\n",
    "else:\n",
    "    print('Do not match')"
   ]
  },
  {
   "cell_type": "markdown",
   "metadata": {
    "id": "MMQDBD2EkAN5"
   },
   "source": [
    "## Example (7, 4)"
   ]
  },
  {
   "cell_type": "code",
   "execution_count": 54,
   "metadata": {
    "colab": {
     "base_uri": "https://localhost:8080/"
    },
    "id": "yoOTAS06kCmp",
    "outputId": "9603b3fd-375e-4249-a6e1-922886c8b61a"
   },
   "outputs": [
    {
     "ename": "FileNotFoundError",
     "evalue": "[Errno 2] No such file or directory: 'encoded_sequence_74.txt'",
     "output_type": "error",
     "traceback": [
      "\u001b[1;31m---------------------------------------------------------------------------\u001b[0m",
      "\u001b[1;31mFileNotFoundError\u001b[0m                         Traceback (most recent call last)",
      "\u001b[1;32m<ipython-input-54-05a5ba38b468>\u001b[0m in \u001b[0;36m<module>\u001b[1;34m\u001b[0m\n\u001b[0;32m      1\u001b[0m \u001b[1;31m#Step 1\u001b[0m\u001b[1;33m\u001b[0m\u001b[1;33m\u001b[0m\u001b[1;33m\u001b[0m\u001b[0m\n\u001b[1;32m----> 2\u001b[1;33m \u001b[1;32mwith\u001b[0m \u001b[0mopen\u001b[0m\u001b[1;33m(\u001b[0m\u001b[1;34m'encoded_sequence_74.txt'\u001b[0m\u001b[1;33m,\u001b[0m \u001b[0mencoding\u001b[0m\u001b[1;33m=\u001b[0m\u001b[1;34m\"utf8\"\u001b[0m\u001b[1;33m)\u001b[0m \u001b[1;32mas\u001b[0m \u001b[0mfile\u001b[0m\u001b[1;33m:\u001b[0m\u001b[1;33m\u001b[0m\u001b[1;33m\u001b[0m\u001b[0m\n\u001b[0m\u001b[0;32m      3\u001b[0m     \u001b[0mdecod74\u001b[0m \u001b[1;33m=\u001b[0m \u001b[0mfile\u001b[0m\u001b[1;33m.\u001b[0m\u001b[0mread\u001b[0m\u001b[1;33m(\u001b[0m\u001b[1;33m)\u001b[0m\u001b[1;33m\u001b[0m\u001b[1;33m\u001b[0m\u001b[0m\n\u001b[0;32m      4\u001b[0m \u001b[0mprint\u001b[0m\u001b[1;33m(\u001b[0m\u001b[1;34mf'Original file: {decod74}'\u001b[0m\u001b[1;33m)\u001b[0m\u001b[1;33m\u001b[0m\u001b[1;33m\u001b[0m\u001b[0m\n\u001b[0;32m      5\u001b[0m \u001b[1;31m# dividing into data blocks 16 bits each\u001b[0m\u001b[1;33m\u001b[0m\u001b[1;33m\u001b[0m\u001b[1;33m\u001b[0m\u001b[0m\n",
      "\u001b[1;31mFileNotFoundError\u001b[0m: [Errno 2] No such file or directory: 'encoded_sequence_74.txt'"
     ]
    }
   ],
   "source": [
    "#Step 1\n",
    "with open('encoded_sequence_74.txt', encoding=\"utf8\") as file:\n",
    "    decod74 = file.read()\n",
    "print(f'Original file: {decod74}')\n",
    "# dividing into data blocks 16 bits each\n",
    "n = 8\n",
    "blocks4 = [decod74[i:i+n] for i in range(0, len(decod74), n)]\n",
    "# output each data block \n",
    "print('Initial blocks:' )\n",
    "i=1\n",
    "for block in blocks4:\n",
    "  print(f'b{i}: {block}')\n",
    "  i+=1"
   ]
  },
  {
   "cell_type": "code",
   "execution_count": 55,
   "metadata": {
    "colab": {
     "base_uri": "https://localhost:8080/"
    },
    "id": "FRagt9bwkGUi",
    "outputId": "12e3f89f-6c98-47f2-a5c1-a0220fa62fae"
   },
   "outputs": [
    {
     "ename": "NameError",
     "evalue": "name 'blocks4' is not defined",
     "output_type": "error",
     "traceback": [
      "\u001b[1;31m---------------------------------------------------------------------------\u001b[0m",
      "\u001b[1;31mNameError\u001b[0m                                 Traceback (most recent call last)",
      "\u001b[1;32m<ipython-input-55-1fac8fe2f60f>\u001b[0m in \u001b[0;36m<module>\u001b[1;34m\u001b[0m\n\u001b[0;32m      2\u001b[0m \u001b[1;32mimport\u001b[0m \u001b[0mrandom\u001b[0m\u001b[1;33m\u001b[0m\u001b[1;33m\u001b[0m\u001b[0m\n\u001b[0;32m      3\u001b[0m \u001b[0mi\u001b[0m \u001b[1;33m=\u001b[0m \u001b[1;36m0\u001b[0m\u001b[1;33m\u001b[0m\u001b[1;33m\u001b[0m\u001b[0m\n\u001b[1;32m----> 4\u001b[1;33m \u001b[1;32mfor\u001b[0m \u001b[0mblock\u001b[0m \u001b[1;32min\u001b[0m \u001b[0mblocks4\u001b[0m\u001b[1;33m:\u001b[0m\u001b[1;33m\u001b[0m\u001b[1;33m\u001b[0m\u001b[0m\n\u001b[0m\u001b[0;32m      5\u001b[0m   \u001b[0mi\u001b[0m\u001b[1;33m+=\u001b[0m\u001b[1;36m1\u001b[0m\u001b[1;33m\u001b[0m\u001b[1;33m\u001b[0m\u001b[0m\n\u001b[0;32m      6\u001b[0m \u001b[0mnum_blk\u001b[0m \u001b[1;33m=\u001b[0m \u001b[0mround\u001b[0m\u001b[1;33m(\u001b[0m\u001b[1;33m(\u001b[0m\u001b[0mi\u001b[0m\u001b[1;33m*\u001b[0m\u001b[1;36m30\u001b[0m\u001b[1;33m)\u001b[0m\u001b[1;33m/\u001b[0m\u001b[1;36m100\u001b[0m\u001b[1;33m)\u001b[0m\u001b[1;33m\u001b[0m\u001b[1;33m\u001b[0m\u001b[0m\n",
      "\u001b[1;31mNameError\u001b[0m: name 'blocks4' is not defined"
     ]
    }
   ],
   "source": [
    "#Step 2\n",
    "import random\n",
    "i = 0\n",
    "for block in blocks4:\n",
    "  i+=1\n",
    "num_blk = round((i*30)/100)\n",
    "n = 0\n",
    "print(f'Blocks with errors:')\n",
    "for b in blocks4:\n",
    "  # random block\n",
    "  rand_bl = random.randint(0, len(blocks4)-1)\n",
    "  n += 1\n",
    "  if n == num_blk+1:\n",
    "    break\n",
    "  else:\n",
    "    #random position\n",
    "    rand_pos = random.randint(0,7)\n",
    "    #block with error\n",
    "    bl_err = blocks4[rand_bl]\n",
    "    bl_err = [int(digit, 16) for digit in bl_err]\n",
    "    bl_err[rand_pos] = bl_err[rand_pos] ^ 1\n",
    "    #convert to str by joinig ints\n",
    "    bl_str = ''.join(map(str, bl_err))\n",
    "    blocks4[rand_bl] = bl_str\n",
    "    print(f'b{rand_bl+1}:{blocks4[rand_bl]}, position:{rand_pos}' )"
   ]
  },
  {
   "cell_type": "code",
   "execution_count": 26,
   "metadata": {
    "id": "4_saDap1ob1q"
   },
   "outputs": [],
   "source": [
    "# Step 3\n",
    "def HammingDecode2(bitstring):\n",
    "  # Get data bits\n",
    "  n = 1\n",
    "  bits = [bitstring[i:i+n] for i in range(0, len(bitstring), n)]\n",
    "  # Converting bits to integer\n",
    "  for i in range(0, len(bits)):\n",
    "    bits[i] = int(bits[i])\n",
    "  tester = ''\n",
    "  # output\n",
    "  print(f'{bitstring}:')\n",
    "  p1 = bits[3]^bits[5]^bits[7]\n",
    "  if p1 == bits[1]:\n",
    "    checker = 'correct'\n",
    "    sym = 'o'\n",
    "  else:\n",
    "    checker = 'incorrect'\n",
    "    sym = 'x'\n",
    "  tester += sym\n",
    "  print(f'p1: b3+b5+b7 = {bits[3]}+{bits[5]}+{bits[7]} = {p1} {checker}')\n",
    "\n",
    "  p2 = bits[3]^bits[6]^bits[7]\n",
    "  if p2 == bits[2]:\n",
    "    checker = 'correct'\n",
    "    sym = 'o'\n",
    "  else:\n",
    "    checker = 'incorrect'\n",
    "    sym = 'x'\n",
    "  tester += sym\n",
    "  print(f'p2: b3+b6+b7 = {bits[3]}+{bits[6]}+{bits[7]} = {p2} {checker}')\n",
    "\n",
    "  p3 = bits[5]^bits[6]^bits[7]\n",
    "  if p3 == bits[4]:\n",
    "    checker = 'correct'\n",
    "    sym = 'o'\n",
    "  else:\n",
    "    checker = 'incorrect'\n",
    "    sym = 'x'\n",
    "  tester += sym\n",
    "  print(f'p3: b5+b6+b7 = {bits[5]}+{bits[6]}+{bits[7]} = {p3} {checker}')\n",
    "\n",
    "  p0 = bits[1]^bits[2]^bits[3]^bits[4]^bits[5]^bits[6]^bits[7]\n",
    "  if p0 == bits[0]:\n",
    "    checker = 'correct'\n",
    "  else:\n",
    "    checker = 'incorrect'  \n",
    "  print(f'p0: b1+b2+b3+b4+b5+b6+b7 = {bits[1]}+{bits[2]}+{bits[3]}+{bits[4]}+{bits[5]}+{bits[6]}+{bits[7]} = {p0} {checker}') \n",
    "  \n",
    "  #Error detection\n",
    "  final = tester + checker\n",
    "  if final == 'ooocorrect':\n",
    "    print('No error')\n",
    "    \n",
    "  else:\n",
    "    if tester == 'xxo':\n",
    "      pos_no = 3\n",
    "    elif tester == 'xox':\n",
    "      pos_no = 5\n",
    "    elif tester == 'oxx':\n",
    "      pos_no = 6\n",
    "    elif tester == 'xxx':\n",
    "      pos_no = 7\n",
    "    elif tester == 'xoo':\n",
    "      pos_no = 1\n",
    "    elif tester == 'oxo':\n",
    "      pos_no = 2\n",
    "    elif tester == 'oox':\n",
    "      pos_no = 4\n",
    "    else:\n",
    "      pos_no = 0\n",
    "\n",
    "    print(f'Error in position {pos_no}')\n",
    "    # correcting error\n",
    "    bits[pos_no] = bits[pos_no]^1\n",
    "    correct_bitstr = ''.join(map(str, bits))\n",
    "    print(f'Corrected bitstring: {correct_bitstr}')\n",
    "\n",
    "  arr = [bits[3], bits[5], bits[6], bits[7]]\n",
    "  dec_str = ''.join(map(str, arr))\n",
    "  print(f'Decoded bitstring: {dec_str}')\n",
    "  return dec_str\n"
   ]
  },
  {
   "cell_type": "code",
   "execution_count": 27,
   "metadata": {
    "colab": {
     "base_uri": "https://localhost:8080/"
    },
    "id": "R--0o5_CtF2c",
    "outputId": "7d1500d2-d173-40f4-abf0-10ad50e55de6"
   },
   "outputs": [
    {
     "ename": "NameError",
     "evalue": "name 'blocks4' is not defined",
     "output_type": "error",
     "traceback": [
      "\u001b[1;31m---------------------------------------------------------------------------\u001b[0m",
      "\u001b[1;31mNameError\u001b[0m                                 Traceback (most recent call last)",
      "\u001b[1;32m<ipython-input-27-f1d7af1d107e>\u001b[0m in \u001b[0;36m<module>\u001b[1;34m\u001b[0m\n\u001b[0;32m      1\u001b[0m \u001b[1;31m# Step 4\u001b[0m\u001b[1;33m\u001b[0m\u001b[1;33m\u001b[0m\u001b[1;33m\u001b[0m\u001b[0m\n\u001b[0;32m      2\u001b[0m \u001b[0mdecoded_seq74\u001b[0m \u001b[1;33m=\u001b[0m \u001b[1;34m''\u001b[0m\u001b[1;33m\u001b[0m\u001b[1;33m\u001b[0m\u001b[0m\n\u001b[1;32m----> 3\u001b[1;33m \u001b[1;32mfor\u001b[0m \u001b[0mi\u001b[0m \u001b[1;32min\u001b[0m \u001b[0mrange\u001b[0m\u001b[1;33m(\u001b[0m\u001b[1;36m0\u001b[0m\u001b[1;33m,\u001b[0m \u001b[0mlen\u001b[0m\u001b[1;33m(\u001b[0m\u001b[0mblocks4\u001b[0m\u001b[1;33m)\u001b[0m\u001b[1;33m)\u001b[0m\u001b[1;33m:\u001b[0m\u001b[1;33m\u001b[0m\u001b[1;33m\u001b[0m\u001b[0m\n\u001b[0m\u001b[0;32m      4\u001b[0m   \u001b[0mdec74\u001b[0m \u001b[1;33m=\u001b[0m \u001b[0mHammingDecode2\u001b[0m\u001b[1;33m(\u001b[0m\u001b[0mblocks4\u001b[0m\u001b[1;33m[\u001b[0m\u001b[0mi\u001b[0m\u001b[1;33m]\u001b[0m\u001b[1;33m)\u001b[0m\u001b[1;33m\u001b[0m\u001b[1;33m\u001b[0m\u001b[0m\n\u001b[0;32m      5\u001b[0m   \u001b[0mdecoded_seq74\u001b[0m \u001b[1;33m=\u001b[0m \u001b[0mdecoded_seq74\u001b[0m \u001b[1;33m+\u001b[0m \u001b[0mdec74\u001b[0m\u001b[1;33m\u001b[0m\u001b[1;33m\u001b[0m\u001b[0m\n",
      "\u001b[1;31mNameError\u001b[0m: name 'blocks4' is not defined"
     ]
    }
   ],
   "source": [
    "# Step 4\n",
    "decoded_seq74 = ''\n",
    "for i in range(0, len(blocks4)):\n",
    "  dec74 = HammingDecode2(blocks4[i])\n",
    "  decoded_seq74 = decoded_seq74 + dec74\n",
    "  print('----------')"
   ]
  },
  {
   "cell_type": "code",
   "execution_count": 28,
   "metadata": {
    "colab": {
     "base_uri": "https://localhost:8080/"
    },
    "id": "EfzVZ3-l9tCQ",
    "outputId": "20abe8a3-0534-402f-e0d6-9ba21c996d08"
   },
   "outputs": [
    {
     "name": "stdout",
     "output_type": "stream",
     "text": [
      "Decoded sequence: \n"
     ]
    },
    {
     "ename": "FileNotFoundError",
     "evalue": "[Errno 2] No such file or directory: 'compressed.txt'",
     "output_type": "error",
     "traceback": [
      "\u001b[1;31m---------------------------------------------------------------------------\u001b[0m",
      "\u001b[1;31mFileNotFoundError\u001b[0m                         Traceback (most recent call last)",
      "\u001b[1;32m<ipython-input-28-fe964f6bea70>\u001b[0m in \u001b[0;36m<module>\u001b[1;34m\u001b[0m\n\u001b[0;32m      1\u001b[0m \u001b[0mprint\u001b[0m\u001b[1;33m(\u001b[0m\u001b[1;34mf'Decoded sequence: {decoded_seq74}'\u001b[0m\u001b[1;33m)\u001b[0m\u001b[1;33m\u001b[0m\u001b[1;33m\u001b[0m\u001b[0m\n\u001b[0;32m      2\u001b[0m \u001b[1;31m# open and read txt file\u001b[0m\u001b[1;33m\u001b[0m\u001b[1;33m\u001b[0m\u001b[1;33m\u001b[0m\u001b[0m\n\u001b[1;32m----> 3\u001b[1;33m \u001b[1;32mwith\u001b[0m \u001b[0mopen\u001b[0m\u001b[1;33m(\u001b[0m\u001b[1;34m'compressed.txt'\u001b[0m\u001b[1;33m,\u001b[0m \u001b[0mencoding\u001b[0m\u001b[1;33m=\u001b[0m\u001b[1;34m\"utf8\"\u001b[0m\u001b[1;33m)\u001b[0m \u001b[1;32mas\u001b[0m \u001b[0mfile\u001b[0m\u001b[1;33m:\u001b[0m\u001b[1;33m\u001b[0m\u001b[1;33m\u001b[0m\u001b[0m\n\u001b[0m\u001b[0;32m      4\u001b[0m     \u001b[0mcompr\u001b[0m \u001b[1;33m=\u001b[0m \u001b[0mfile\u001b[0m\u001b[1;33m.\u001b[0m\u001b[0mread\u001b[0m\u001b[1;33m(\u001b[0m\u001b[1;33m)\u001b[0m\u001b[1;33m\u001b[0m\u001b[1;33m\u001b[0m\u001b[0m\n\u001b[0;32m      5\u001b[0m \u001b[0mprint\u001b[0m\u001b[1;33m(\u001b[0m\u001b[1;34mf'Original: {compr}'\u001b[0m\u001b[1;33m)\u001b[0m\u001b[1;33m\u001b[0m\u001b[1;33m\u001b[0m\u001b[0m\n",
      "\u001b[1;31mFileNotFoundError\u001b[0m: [Errno 2] No such file or directory: 'compressed.txt'"
     ]
    }
   ],
   "source": [
    "print(f'Decoded sequence: {decoded_seq74}')\n",
    "# open and read txt file\n",
    "with open('compressed.txt', encoding=\"utf8\") as file:\n",
    "    compr = file.read()\n",
    "print(f'Original: {compr}')\n",
    "\n",
    "if compr == decoded_seq74:\n",
    "  print('They match')\n",
    "else:\n",
    "  print('Do not match')"
   ]
  },
  {
   "cell_type": "code",
   "execution_count": null,
   "metadata": {},
   "outputs": [],
   "source": []
  },
  {
   "cell_type": "code",
   "execution_count": null,
   "metadata": {},
   "outputs": [],
   "source": []
  },
  {
   "cell_type": "code",
   "execution_count": null,
   "metadata": {},
   "outputs": [],
   "source": []
  }
 ],
 "metadata": {
  "colab": {
   "collapsed_sections": [],
   "name": "InfTh A7.ipynb",
   "provenance": []
  },
  "kernelspec": {
   "display_name": "Python 3",
   "language": "python",
   "name": "python3"
  },
  "language_info": {
   "codemirror_mode": {
    "name": "ipython",
    "version": 3
   },
   "file_extension": ".py",
   "mimetype": "text/x-python",
   "name": "python",
   "nbconvert_exporter": "python",
   "pygments_lexer": "ipython3",
   "version": "3.8.3"
  }
 },
 "nbformat": 4,
 "nbformat_minor": 1
}
